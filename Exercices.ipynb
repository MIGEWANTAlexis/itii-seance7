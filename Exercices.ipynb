{
 "cells": [
  {
   "cell_type": "code",
   "execution_count": 9,
   "metadata": {},
   "outputs": [
    {
     "name": "stdout",
     "output_type": "stream",
     "text": [
      "A :  [[  3  41   5]\n",
      " [  9  58  -1]\n",
      " [110 122   2]]\n",
      "B :  [[ 81  -1   8]\n",
      " [ 23   1   3]\n",
      " [187   2  32]]\n",
      "A + B :  [[ 84  40  13]\n",
      " [ 32  59   2]\n",
      " [297 124  34]]\n"
     ]
    }
   ],
   "source": [
    "## Exo 1\n",
    "\n",
    "import numpy as np\n",
    "\n",
    "A = np.array ([ [3,41,5], [9, 58, -1], [110, 122 ,2] ])\n",
    "B = np.array ([ [81, -1, 8], [23, 1, 3], [187, 2, 32] ])\n",
    "\n",
    "C= A + B\n",
    "print(\"A : \", A)\n",
    "print(\"B : \", B)\n",
    "print(\"A + B : \", C)"
   ]
  },
  {
   "cell_type": "code",
   "execution_count": 14,
   "metadata": {},
   "outputs": [
    {
     "name": "stdout",
     "output_type": "stream",
     "text": [
      "A :  [[  3  41   5]\n",
      " [  9  58  -1]\n",
      " [110 122   2]]\n",
      "B :  [[ 81  -1   8]\n",
      " [ 23   1   3]\n",
      " [187   2  32]]\n",
      "A * B :  [[ 2121    48   307]\n",
      " [ 1876    47   214]\n",
      " [12090    16  1310]]\n"
     ]
    }
   ],
   "source": [
    "## Exo 2\n",
    "\n",
    "import numpy as np\n",
    " \n",
    "A = np.array ([ [3,41,5], [9, 58, -1], [110, 122 ,2] ])\n",
    "B = np.array ([ [81, -1, 8], [23, 1, 3], [187, 2, 32] ])\n",
    " \n",
    "C = A.dot(B)\n",
    "\n",
    "print(\"A : \", A)\n",
    "print(\"B : \", B)\n",
    "print(\"A * B : \", C)"
   ]
  },
  {
   "cell_type": "code",
   "execution_count": 18,
   "metadata": {},
   "outputs": [],
   "source": [
    "## Exo 3\n",
    "\n",
    "def eststochastique(P):\n",
    "    x=np.sum(P,axis=1)\n",
    "    \n",
    "    etat=(x < 1).all()       \n",
    "    return etat\n",
    " \n",
    "    \n",
    "def estbistochastique(P):\n",
    "    if(eststochastique(P)):\n",
    "        x=np.sum(P,axis=1)\n",
    "    return etat\n",
    " \n",
    "\n",
    "def vecteurstable(G, h):\n",
    "    if(eststochastique(G)):\n",
    "        x=np.sum(G,axis=1)\n",
    "    return etat"
   ]
  },
  {
   "cell_type": "code",
   "execution_count": 13,
   "metadata": {},
   "outputs": [
    {
     "name": "stdout",
     "output_type": "stream",
     "text": [
      "A :  [[  3  41   5]\n",
      " [  9  58  -1]\n",
      " [110 122   2]]\n",
      "Transposée de A :  [[  3   9 110]\n",
      " [ 41  58 122]\n",
      " [  5  -1   2]]\n"
     ]
    }
   ],
   "source": [
    "## Exo 4\n",
    "\n",
    "import numpy as np\n",
    "\n",
    "A = np.array ([ [3,41,5], [9, 58, -1], [110, 122 ,2] ])\n",
    "\n",
    "C = A.transpose()\n",
    "\n",
    "print(\"A : \", A)\n",
    "print(\"Transposée de A : \", C)"
   ]
  },
  {
   "cell_type": "code",
   "execution_count": 19,
   "metadata": {},
   "outputs": [],
   "source": [
    "## Exo 5\n",
    "\n",
    "def permut(A, perm, N):\n",
    "    B = np.empty_like(A)\n",
    "    for i in range(N):\n",
    "        B[A[:] == i] = perm[i]\n",
    "    return B"
   ]
  },
  {
   "cell_type": "code",
   "execution_count": null,
   "metadata": {},
   "outputs": [],
   "source": []
  }
 ],
 "metadata": {
  "kernelspec": {
   "display_name": "Python 3",
   "language": "python",
   "name": "python3"
  },
  "language_info": {
   "codemirror_mode": {
    "name": "ipython",
    "version": 3
   },
   "file_extension": ".py",
   "mimetype": "text/x-python",
   "name": "python",
   "nbconvert_exporter": "python",
   "pygments_lexer": "ipython3",
   "version": "3.8.5"
  }
 },
 "nbformat": 4,
 "nbformat_minor": 4
}
